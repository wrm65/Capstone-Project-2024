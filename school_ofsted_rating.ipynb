{
 "cells": [
  {
   "cell_type": "markdown",
   "id": "0bed68dd-491a-4afa-97a1-d75522264837",
   "metadata": {},
   "source": [
    "### Author: `Winston Menzies`\n",
    "> #### Imperial College Business School\n",
    "> #### Professional Certificate in Machine Learning and Artifical Intelligence\n",
    "#### Date: `29 April 2024`\n",
    "#### Student ID: `484 (Class of 2023)`\n",
    "#### Required activity 25.3: `Portfolio project on optimising a model for real-life data`\n",
    "#### Usage: `Capstone Project - Predicting Ofsted School Grades`\n",
    "\n",
    "## Activity directions\n",
    "\n",
    "**1. Code Presentation:** Other people should be able to implement your code easily. Make sure it is well commented and clear. It is recommended that you use a Jupyter Notebook to present your method and results."
   ]
  },
  {
   "cell_type": "markdown",
   "id": "893acf4b-f48c-4803-a92a-2ea1b8d4811d",
   "metadata": {},
   "source": [
    "### Codebase Development\n",
    "My preferred approach was to use a more modular, structured and reusable development, implementing an object-oriented programming (OOPs) codebase using classes, objects, inheritance etc, which would also lead to cleaner code and better maintainability. Therefore, I developed a library of Python files. Click on the link below to view the GitHub codebase.\n",
    "\n",
    "> https://github.com/wrm65/Capstone-Project-2024/tree/main/src\n",
    "\n",
    "While this notebook build and run the models developed to meet the requirements for this project, it does not contain any devlopment code. Instead it contains a series of function calls to run the models and produce the performance metrics, graphs and summmary reports.\n",
    "\n",
    "Full explanations and expectations are provided prior to running each function. "
   ]
  },
  {
   "cell_type": "markdown",
   "id": "6c648f77-ba71-4344-a5eb-a7241a825a87",
   "metadata": {},
   "source": [
    "### <span style='background:green'><font color = white>&nbsp;Start School Rating Process&nbsp;</font></span>"
   ]
  },
  {
   "cell_type": "code",
   "execution_count": null,
   "id": "71ccf2d1-b956-482a-bcae-9eb00373cbc1",
   "metadata": {},
   "outputs": [],
   "source": [
    "\n",
    "# import libraries needed to run the models\n",
    "import sys\n",
    "sys.path.append(\"./src\")\n",
    "from constants import *\n",
    "from school_ofsted_rating import SchoolRating\n",
    "\n",
    "# create instance of school rating class\n",
    "\n",
    "school_rating = SchoolRating()\n"
   ]
  },
  {
   "cell_type": "markdown",
   "id": "912375fd-689d-49b3-9f9e-b8e634c465a2",
   "metadata": {},
   "source": [
    "### Exploratory data analysis (EDA)\n",
    "\n",
    "Let's gain a deeper understanding of the OIS dataset, so we can make informed decisions about how to proceed with our analysis.\n",
    "\n",
    "1. **OIS dataset dimension**<br>\n",
    "> total rows and columns\n",
    "2. **Dataset definition**<br>\n",
    "> column names and datatype\n",
    "3. **View _head_ of dataset**<br>\n",
    "> first 5 rows\n",
    "4. **Check for missing values**<br>\n",
    "> show column _NULL_ counts\n",
    "5. **Classification**<br>\n",
    "> list the classifications to _predict_"
   ]
  },
  {
   "cell_type": "code",
   "execution_count": null,
   "id": "ba4db5db-6f4a-43c6-b881-37a3f6d4e99d",
   "metadata": {},
   "outputs": [],
   "source": [
    "\n",
    "#call fuction to report on dataset vitals\n",
    "\n",
    "school_rating.report_dataset_vitals()\n"
   ]
  },
  {
   "cell_type": "markdown",
   "id": "043a7bc8-3cba-4ab8-a279-b116142c55a2",
   "metadata": {},
   "source": [
    "### - show additional data analysis\n",
    "\n",
    "1. **School Gender Type**<br>\n",
    "> percentage of _boys_, _girls_, and _mixed_ schools\n",
    "2. **School Religious Ethos**<br>\n",
    "> percentage of _Chruch of England_, _Roman Catholic_, _Other religion_ and _non-faith_ schools\n",
    "2. **School Ofsted Rating**<br>\n",
    "> percentage of _Outstanding_, _Good_, _Requires improvement_, and _Inadequate_ ratings"
   ]
  },
  {
   "cell_type": "code",
   "execution_count": null,
   "id": "fed10359-6cd5-4236-a18d-0c97eae9539a",
   "metadata": {},
   "outputs": [],
   "source": [
    "\n",
    "#call fuction to show summary report\n",
    "\n",
    "school_rating.show_summary()\n"
   ]
  },
  {
   "cell_type": "markdown",
   "id": "f41d5f98-e5dc-43eb-914e-c8b3786ff3b0",
   "metadata": {},
   "source": [
    "### Data Preprocessing\n",
    "\n",
    "1. **Remove _irrelevant_ columns**\n",
    "2. **Encode Categorical Variables**<br>\n",
    "> convert ratings to numerical values<br>\n",
    "> `Outstanding = 1`<br>\n",
    "> `Good = 2`<br>\n",
    "> `Requires improvement = 3`<br>\n",
    "> `Inadequate = 4`<br>\n",
    "3. **List the models being used**"
   ]
  },
  {
   "cell_type": "code",
   "execution_count": null,
   "id": "37963f8c-91e0-41e5-b7c0-ae3b06afe3fc",
   "metadata": {},
   "outputs": [],
   "source": [
    "\n",
    "# call function to drop unwanted columns\n",
    "# columns being dropped will be shown\n",
    "# resulting dataset definition will also be shown\n",
    "\n",
    "school_rating.drop_unwanted_columns()\n"
   ]
  },
  {
   "cell_type": "code",
   "execution_count": null,
   "id": "a0505e86-d7d4-4e08-a222-4393239ece63",
   "metadata": {},
   "outputs": [],
   "source": [
    "\n",
    "# call function to encode categorical variables \n",
    "\n",
    "school_rating.encode_rating_catogory()\n"
   ]
  },
  {
   "cell_type": "markdown",
   "id": "db6ba401-030a-46fd-b152-e75703caa260",
   "metadata": {},
   "source": [
    "## <span style='background:black'><font color = white>&nbsp;Model Development and Tuning&nbsp;</font></span>\n",
    "\n",
    "## Data Preparation\n",
    "\n",
    "### Training, and Testing\n",
    "\n",
    "Data splitting divides a dataset into two main subsets: \n",
    "- the training set, used to train the model;\n",
    "- and the testing set, used for checking the model’s performance on new data."
   ]
  },
  {
   "cell_type": "code",
   "execution_count": null,
   "id": "e5bed302-2868-484c-a347-e7a659942e11",
   "metadata": {},
   "outputs": [],
   "source": [
    "\n",
    "# call function to split the dataset as specified\n",
    "# traing set will be 65% of dataset\n",
    "# testing set will be 35% of dataset\n",
    "\n",
    "school_rating.split_data(0.35)\n"
   ]
  },
  {
   "cell_type": "markdown",
   "id": "be7552a4-681f-4baf-9dbf-234ab012d38d",
   "metadata": {},
   "source": [
    "## Build and Run Models\n",
    "The building and running of a model is encapsulated in the function `build_model(model_type)` where the argument `model_type` specify the **_model_** to build and run.\n",
    "\n",
    "The steps involve in the building and running process are:\n",
    "- pre-build process: _define_ hyperparamter to tune\n",
    "- train model: _fit_ model using training data\n",
    "- predict model: _predict_ model using test data \n",
    "- evaluate model: _calculate_ set of performance metrics (`accuracy`, `mean squared error`, `recall` and `f1 scorce`)\n",
    "- print metrics: _print_ performance metrics for comparison\n",
    "- post build process: _provide_ additional information such as _importance of features_, _classification report_, _decision tree visualisation_\n",
    "\n",
    "#### Evaluate Model\n",
    "- **accuracy:**<br>\n",
    "$$ \\text{Accuracy} = \\frac{\\text{Number of Correct Predictions}}{\\text{Total Number of Predictions}}$$\n",
    "- **mean squared error:**<br>\n",
    "$$ \\text{MSE} = \\frac{1}{n}\\sum \\limits _{i=1} ^{n} \\left(y_i - \\hat{y}_i\\right)^2$$\n",
    "- **recall score**<br>\n",
    "$$ \\text{Recall} = \\frac{\\text{True Positives}}{\\text{True Positives}+\\text{False Negatives}}$$\n",
    "- **precision score:**<br>\n",
    "$$ \\text{Precision} = \\frac{\\text{True Positives}}{\\text{True Positives}+\\text{False Positives}}$$\n",
    "- **f1 score:**<br>\n",
    "$$ F1 = 2 \\times \\frac{\\text{Precision} \\times \\text{Recall}}{\\text{Precision} + \\text{Recall}}$$\n",
    "\n",
    "#### Importance of features\n",
    "- Feature importance gives us better **interpretability** of data.\n",
    "- Features provide insights into the underlying relationships and processes within the data.\n",
    "- Understanding which features are important can help in interpreting the results of the analysis and drawing meaningful conclusions.\n",
    "\n",
    "#### Classification Report\n",
    "- The classification report provides a detailed breakdown of how well the models performs on each class (`Outstanding` `Good` `Requires improvement` `Inadequate`), and how it balances the trade-off between precision and recall. It also provides the number of instances (support) for each class, which can indicate the class imbalance or the size of the dataset.\n",
    "\n",
    "#### Decision Tree Visualisation\n",
    "- A decision tree visualisation is used to illustrate how underlying data predicts a chosen target and highlights key insights about the decision tree."
   ]
  },
  {
   "cell_type": "code",
   "execution_count": null,
   "id": "88de1573-e4df-4604-8cbc-48729541e8bb",
   "metadata": {},
   "outputs": [],
   "source": [
    "\n",
    "# call function to list the models being used\n",
    "\n",
    "school_rating.show_rating_models()\n"
   ]
  },
  {
   "cell_type": "markdown",
   "id": "b370776b-c0b6-4ebf-90fd-2ee8b31892fa",
   "metadata": {},
   "source": [
    "## <font color = blue>Random Forest model</font>\n",
    "\n",
    "The following steps are taken during the build and run process:\n",
    "\n",
    "- **Hyperparamter tuning:** `n_estimators` - number of trees in the forest\n",
    "- **Method:** iteratively tune the `n_estimators` parameter by increasing in steps of `50`and find the best performing `n_estimators` setting\n",
    "- **Metrics:** `accuracy score` `recall score` `f1 score` `mean squared error`\n",
    "- **Additional Info:** _Importance of Features_ and _Classification Report_"
   ]
  },
  {
   "cell_type": "code",
   "execution_count": null,
   "id": "113b92a7-0e9c-4da7-b9bc-8ca36b8312b2",
   "metadata": {},
   "outputs": [],
   "source": [
    "\n",
    "# call function to build and run the Random Forest model\n",
    "\n",
    "# school_rating.build_model(MODEL_RANDOM_FOREST['TYPE'])\n"
   ]
  },
  {
   "cell_type": "markdown",
   "id": "d3b2d98e-09b1-4043-b16d-f469f845c5dc",
   "metadata": {},
   "source": [
    "## <font color = blue>Gradient Boosting model</font>\n",
    "\n",
    "The following steps are taken during the build and run process:\n",
    "\n",
    "- **Hyperparamter tuning:** `n_estimators` - number of boosting stages to perform\n",
    "- **Method:** iteratively tune the `n_estimators` parameter by increasing in steps of `10`and find the best performing `n_estimators` setting\n",
    "- **Metrics:** `accuracy score` `recall score` `f1 score` `mean squared error`\n",
    "- **Additional Info:** _Importance of Features_"
   ]
  },
  {
   "cell_type": "code",
   "execution_count": null,
   "id": "5cb63824-601f-4f7b-9e4b-396d5305ca05",
   "metadata": {},
   "outputs": [],
   "source": [
    "\n",
    "# call function to build and run the Gradient Boosting model\n",
    "\n",
    "# school_rating.build_model(MODEL_GRADIENT_BOOSTING['TYPE'])\n"
   ]
  },
  {
   "cell_type": "markdown",
   "id": "ba45e2eb-9879-4cd8-a49b-f5ced0d15a89",
   "metadata": {},
   "source": [
    "## <font color = blue>Logistic Regression model</font>\n",
    "\n",
    "The following steps are taken during the build and run process:\n",
    "\n",
    "- **Hyperparamter tuning:** `max_iter` - maximum number of iterations taken for the solvers to converge\n",
    "- **Method:** single step process\n",
    "- **Metrics:** `accuracy score` `recall score` `f1 score` `mean squared error`\n",
    "- **Additional Info:** _Importance of Features_"
   ]
  },
  {
   "cell_type": "code",
   "execution_count": null,
   "id": "cf889c38-2d32-472d-b351-75111c6b9290",
   "metadata": {},
   "outputs": [],
   "source": [
    "\n",
    "# call function to build and run the Logistic Regression model\n",
    "\n",
    "# school_rating.build_model(MODEL_LOGISTIC_REGRESSION['TYPE'])\n"
   ]
  },
  {
   "cell_type": "markdown",
   "id": "2325509c-2ded-4d73-b574-6c4dbc2225d2",
   "metadata": {},
   "source": [
    "## <font color = blue>Naive Bayes model</font>\n",
    "\n",
    "The following steps are taken during the build and run process:\n",
    "\n",
    "- **Hyperparamter tuning:** `default settings`\n",
    "- **Method:** single step process\n",
    "- **Metrics:** `accuracy score` `recall score` `f1 score` `mean squared error`\n",
    "- **Additional Info:** none provided"
   ]
  },
  {
   "cell_type": "code",
   "execution_count": null,
   "id": "b4efcb3c-0acf-4938-8ca5-d9ebd028911e",
   "metadata": {},
   "outputs": [],
   "source": [
    "\n",
    "# call function to build and run the Naive Bayes model\n",
    "\n",
    "# school_rating.build_model(MODEL_NAIVE_BAYES['TYPE'])\n"
   ]
  },
  {
   "cell_type": "markdown",
   "id": "0abf983e-8722-4fbd-b54e-49bf53ba376c",
   "metadata": {},
   "source": [
    "## <font color = blue>Support Vector model</font>\n",
    "\n",
    "The following steps are taken during the build and run process:\n",
    "\n",
    "- **Hyperparamter tuning:** `decision_function_shape` - one-vs-one (`ovo`) used as a multi-class strategy to train models\n",
    "- **Method:** single step process\n",
    "- **Metrics:** `accuracy score` `recall score` `f1 score` `mean squared error`\n",
    "- **Additional Info:** none provided"
   ]
  },
  {
   "cell_type": "code",
   "execution_count": null,
   "id": "54314add-0e98-4232-8884-a3a00ecd24c7",
   "metadata": {},
   "outputs": [],
   "source": [
    "\n",
    "# call function to build and run the Support Vector model\n",
    "\n",
    "# school_rating.build_model(MODEL_SUPPORT_VECTOR['TYPE'])\n"
   ]
  },
  {
   "cell_type": "markdown",
   "id": "8f2853e3-8b30-4a96-9d8a-8d3d6e54fbea",
   "metadata": {},
   "source": [
    "## <font color = blue>K Nearest Neighbors (KNN) model</font>\n",
    "\n",
    "The following steps are taken during the build and run process:\n",
    "\n",
    "- **Hyperparamter tuning:** `n_neighbors` - number of neighbors to use by default for kneighbors queries\n",
    "- **Method:** iteratively tune the `n_neighbors` parameter by increasing in steps of `10`and find the best performing `n_neighbors` setting\n",
    "- **Metrics:** `accuracy score` `recall score` `f1 score` `mean squared error`\n",
    "- **Additional Info:** none provided"
   ]
  },
  {
   "cell_type": "code",
   "execution_count": null,
   "id": "7681ed4f-5b79-4e74-97e7-b1a2cecb7238",
   "metadata": {},
   "outputs": [],
   "source": [
    "\n",
    "# call function to build and run the KNN model\n",
    "\n",
    "# school_rating.build_model(MODEL_KNN['TYPE'])\n"
   ]
  },
  {
   "cell_type": "markdown",
   "id": "6e941811-b14a-47fb-a721-c691bf5788e0",
   "metadata": {},
   "source": [
    "## <font color = blue>Multilayer Perceptron model</font>\n",
    "\n",
    "The following steps are taken during the build and run process:\n",
    "\n",
    "- **Hyperparamter tuning:** `hidden_layer_sizes` - _ith_ element represents the number of neurons in the _ith_ hidden layer\n",
    "- **Method:** iteratively tune the `hidden_layer_sizes` parameter by increasing in steps of `2`and find the best performing `hidden_layer_sizes` setting\n",
    "- **Metrics:** `accuracy score` `recall score` `f1 score` `mean squared error`\n",
    "- **Additional Info:** _Classification Report_"
   ]
  },
  {
   "cell_type": "code",
   "execution_count": null,
   "id": "a40505d8-64e3-447c-94f1-3c79e9becf37",
   "metadata": {},
   "outputs": [],
   "source": [
    "\n",
    "# call function to build and run the Multilayer Perceptron model\n",
    "\n",
    "# school_rating.build_model(MODEL_MULTILAYER_PERCEPTRON['TYPE'])\n"
   ]
  },
  {
   "cell_type": "markdown",
   "id": "e6e27e9e-ee7a-4789-85dd-60f8e714c1e3",
   "metadata": {},
   "source": [
    "## <font color = blue>Decision Tree model</font>\n",
    "\n",
    "The following steps are taken during the build and run process:\n",
    "\n",
    "- **Hyperparamter tuning:** `max_depth` - maximum depth of the tree `max_leaf_nodes` - grow tree with maximum number of leaf nodes\n",
    "- **Method:** iteratively tune the `max_leaf_nodes` parameter by increasing in steps of `5`and find the best performing `max_leaf_nodes` setting\n",
    "- **Metrics:** `accuracy score` `recall score` `f1 score` `mean squared error`\n",
    "- **Additional Info:** _Importance of Features_ and _Decision Tree Visulisation_"
   ]
  },
  {
   "cell_type": "code",
   "execution_count": null,
   "id": "1853a5eb-a3cc-4117-9a58-ca5e18d39d65",
   "metadata": {},
   "outputs": [],
   "source": [
    "\n",
    "# call function to build and run the Decision Tree model\n",
    "\n",
    "# school_rating.build_model(MODEL_DECISION_TREE['TYPE'])\n"
   ]
  },
  {
   "cell_type": "markdown",
   "id": "f07b7703-b661-477a-b08f-d4d0137434d6",
   "metadata": {},
   "source": [
    "## Model Evaluation"
   ]
  },
  {
   "cell_type": "code",
   "execution_count": null,
   "id": "8bf25718-d916-4a1e-bf3b-dcbcf159bee3",
   "metadata": {},
   "outputs": [],
   "source": [
    "\n",
    "# call function to produce the list of important features for the models\n",
    "\n",
    "# school_rating.show_important_features()\n"
   ]
  },
  {
   "cell_type": "markdown",
   "id": "241dee0f-3231-4809-af15-1d9bb783bb1e",
   "metadata": {},
   "source": [
    "## <font color = blue>Confusion Matrix</font>\n",
    "\n",
    "Confusion Matrix is a performance measurement for the model classification showing the different combinations of predicted and actual values. It is extremely useful for measuring `Recall` `Precision` `Specificity` and `Accuracy` scores.\n",
    "\n",
    "- **True Positive (TP):** model predict `positive` and it's _true_\n",
    "- **True Negative (TN):** model predict `negative` and it's _true_\n",
    "- **False Positive (FP):** model predict `positive` and it's _false_\n",
    "- **False Negative (FN):** model predict `negative` and it's _false_"
   ]
  },
  {
   "cell_type": "code",
   "execution_count": null,
   "id": "75160074-ebcf-499a-acee-3307e73a6eb1",
   "metadata": {},
   "outputs": [],
   "source": [
    "\n",
    "# call function to produce the confusion matrix for the models\n",
    "\n",
    "# school_rating.show_confusion_matrix()\n"
   ]
  },
  {
   "cell_type": "code",
   "execution_count": null,
   "id": "2efe2428-3540-4c79-bf8a-37a5173ff74e",
   "metadata": {},
   "outputs": [],
   "source": [
    "\n",
    "# call function to produce the list of performance metrics for the models\n",
    "\n",
    "# school_rating.evaluate_model()\n"
   ]
  },
  {
   "cell_type": "markdown",
   "id": "5a8e1c64-3bfd-4678-871a-cb13cc34e38a",
   "metadata": {},
   "source": [
    "### Results Analysis\n",
    "\n",
    "## <span style='background:black'><font color = white>&nbsp;Data Imbalance&nbsp;</font></span>\n",
    "\n",
    "The performance metrics report and confusion matrices show that there is a bias in the grading predictions.\n",
    "\n",
    "To overcome the bias of the majority classes (Good and Outstanding) and balance the class distribution in the dataset, the **over-sampling** technique **SMOTE** will be used. Over-sampling involves creating synthetic instances for the minority classes (Inadequate and Requires Improvement) to match the number of instances in the majority classes.\n",
    "\n",
    "#### - Address the problem of imbalanced datasets\n",
    "> SMOTE - Synthetic Minority Oversampling Technique\n",
    "> - SMOTE works by synthesizing new instances for the minority class by interpolating between existing minority class instances\n",
    "> - For each minority class instance, SMOTE selects one or more of its nearest neighbors from the same class and creates synthetic instances along the line segments connecting the instance to its neighbours.\n",
    "> - SMOTE helps to increase the representation of the minority class in the dataset without simply duplicating existing instances, thus reducing the risk of overfitting."
   ]
  },
  {
   "cell_type": "code",
   "execution_count": null,
   "id": "de1e25eb-e531-491d-a14d-76cac71aa8e0",
   "metadata": {},
   "outputs": [],
   "source": [
    "\n",
    "# call function to balance the data\n",
    "\n",
    "school_rating.run_data_balance()\n"
   ]
  },
  {
   "cell_type": "markdown",
   "id": "7c41d774-b8a1-47cf-bcab-90ddc54556ff",
   "metadata": {},
   "source": [
    "## Rebuild and rerun the models"
   ]
  },
  {
   "cell_type": "code",
   "execution_count": null,
   "id": "548162b1-ed12-4db5-bceb-346b1076e6b3",
   "metadata": {},
   "outputs": [],
   "source": [
    "\n",
    "# call function to build and run the Random Forest model\n",
    "\n",
    "school_rating.build_model(MODEL_RANDOM_FOREST['TYPE'])\n"
   ]
  },
  {
   "cell_type": "code",
   "execution_count": null,
   "id": "8d8c51e0-9914-49fc-842d-57a25a12e57b",
   "metadata": {},
   "outputs": [],
   "source": [
    "\n",
    "# call function to build and run the Gradient Boosting model\n",
    "\n",
    "school_rating.build_model(MODEL_GRADIENT_BOOSTING['TYPE'])\n"
   ]
  },
  {
   "cell_type": "code",
   "execution_count": null,
   "id": "51b7ed8d-a443-44fa-8b03-8a22d3806003",
   "metadata": {},
   "outputs": [],
   "source": [
    "\n",
    "# call function to build and run the Logistic Regression model\n",
    "\n",
    "school_rating.build_model(MODEL_LOGISTIC_REGRESSION['TYPE'])\n"
   ]
  },
  {
   "cell_type": "code",
   "execution_count": null,
   "id": "1f808363-4355-47c6-89cf-f76d0267a94b",
   "metadata": {},
   "outputs": [],
   "source": [
    "\n",
    "# call function to build and run the Naive Bayes model\n",
    "\n",
    "school_rating.build_model(MODEL_NAIVE_BAYES['TYPE'])\n"
   ]
  },
  {
   "cell_type": "code",
   "execution_count": null,
   "id": "55820e67-371d-4a1b-b59c-dae2b4c6de7b",
   "metadata": {},
   "outputs": [],
   "source": [
    "\n",
    "# call function to build and run the Support Vector model\n",
    "\n",
    "school_rating.build_model(MODEL_SUPPORT_VECTOR['TYPE'])\n"
   ]
  },
  {
   "cell_type": "code",
   "execution_count": null,
   "id": "c44bdba4-f91a-4ccf-a749-5a2cf066ae77",
   "metadata": {},
   "outputs": [],
   "source": [
    "\n",
    "# call function to build and run the KNN model\n",
    "\n",
    "school_rating.build_model(MODEL_KNN['TYPE'])\n"
   ]
  },
  {
   "cell_type": "code",
   "execution_count": null,
   "id": "9b92d095-d120-4a2a-8931-b90746c3d583",
   "metadata": {},
   "outputs": [],
   "source": [
    "\n",
    "# call function to build and run the Multilayer Perceptron model\n",
    "\n",
    "school_rating.build_model(MODEL_MULTILAYER_PERCEPTRON['TYPE'])\n"
   ]
  },
  {
   "cell_type": "code",
   "execution_count": null,
   "id": "4558bb59-6b96-4ea0-ac56-41e929df71b3",
   "metadata": {},
   "outputs": [],
   "source": [
    "\n",
    "# call function to build and run the Decision Tree model\n",
    "\n",
    "school_rating.build_model(MODEL_DECISION_TREE['TYPE'])\n"
   ]
  },
  {
   "cell_type": "markdown",
   "id": "7fd1aea2-19a2-4009-a79a-84c4cdfb903e",
   "metadata": {},
   "source": [
    "## Model Evaluation"
   ]
  },
  {
   "cell_type": "code",
   "execution_count": null,
   "id": "41f008f5-7a7d-4855-8632-50c051056f4d",
   "metadata": {},
   "outputs": [],
   "source": [
    "\n",
    "# call function to produce the list of important features for the models\n",
    "\n",
    "school_rating.show_important_features()\n"
   ]
  },
  {
   "cell_type": "code",
   "execution_count": null,
   "id": "4124b244-6993-4358-b0f5-bc1353a57a82",
   "metadata": {},
   "outputs": [],
   "source": [
    "\n",
    "# call function to produce the confusion matrix for the models\n",
    "\n",
    "school_rating.show_confusion_matrix()\n"
   ]
  },
  {
   "cell_type": "code",
   "execution_count": null,
   "id": "7b842999-bc63-4b13-aa94-d3e4c128b940",
   "metadata": {},
   "outputs": [],
   "source": [
    "\n",
    "# call function to produce a comparison table of the performance metrics of the models\n",
    "\n",
    "school_rating.evaluate_model()\n"
   ]
  },
  {
   "cell_type": "code",
   "execution_count": null,
   "id": "39acacf7-83da-4a96-8d65-c38c9e65e8a1",
   "metadata": {},
   "outputs": [],
   "source": [
    "\n",
    "# call function to produce the leaderboard for the models\n",
    "\n",
    "school_rating.model_leaderboard()\n"
   ]
  },
  {
   "cell_type": "markdown",
   "id": "e21933a1-4546-4907-97fc-2e78de39c87c",
   "metadata": {},
   "source": [
    "## Model Recommendation\n",
    "\n",
    "- Based on the performance metrics, the **Multilayer Perceptron Classifier** model achieved the highest accuracy of `86.05%`, closely followed by the **Gradient Boosting Classifier** with `86.04%` for predicting Ofsted school grading.\n",
    "- However, it's essential to consider other factors such as interpretability, computational complexity, and ethical considerations when selecting the best model.\n",
    "- By considering insights from the four evaluation reports collectively, the model which is best suited for predicting Ofsted school grading is the **Decision Tree Classifier**, with an accuracy of `85.99%`.\n",
    "\n",
    "- Using the **Decision Tree Classifier** model to predict Ofsted school grading offers several advantages that make it preferable in certain scenarios:\n",
    "> - **Interpretability**: Decision trees are inherently interpretable models, meaning that the decision-making process is transparent and easy to understand. This is especially important in educational settings where stakeholders such as teachers, administrators, and policymakers need to comprehend the factors driving school grading decisions.\n",
    "> - **Feature Importance**: Decision trees provide insight into the relative importance of different features in predicting school grading. By examining the decision rules and splits in the tree, stakeholders can identify which features have the greatest influence on the classification outcome. This information can inform targeted interventions and improvement strategies.\n",
    "> - **Natural Representation of Decision-Making**: Decision trees mimic human decision-making processes, making them intuitive and easy to relate to for stakeholders. This natural representation can facilitate discussions and collaboration between educators, policymakers, and other stakeholders involved in education quality and improvement efforts.\n",
    "\n"
   ]
  },
  {
   "cell_type": "markdown",
   "id": "f66a6612-c577-4949-8de9-22c14b0f8d66",
   "metadata": {},
   "source": [
    "### <span style='background:green'><font color = white>&nbsp;End School Rating Process&nbsp;</font></span>\n",
    "\n",
    "\n",
    "## Thank You _!_\n",
    "\n",
    "<img src=\"./images/email_logo-01_190x65.png\" alt=\"Grammology\" style=\"width: 110px;\"/>"
   ]
  }
 ],
 "metadata": {
  "kernelspec": {
   "display_name": "Python 3 (ipykernel)",
   "language": "python",
   "name": "python3"
  },
  "language_info": {
   "codemirror_mode": {
    "name": "ipython",
    "version": 3
   },
   "file_extension": ".py",
   "mimetype": "text/x-python",
   "name": "python",
   "nbconvert_exporter": "python",
   "pygments_lexer": "ipython3",
   "version": "3.11.9"
  }
 },
 "nbformat": 4,
 "nbformat_minor": 5
}
